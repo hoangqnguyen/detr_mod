{
 "cells": [
  {
   "cell_type": "markdown",
   "metadata": {},
   "source": [
    "## ENCODER"
   ]
  },
  {
   "cell_type": "code",
   "execution_count": 1,
   "metadata": {},
   "outputs": [
    {
     "name": "stdout",
     "output_type": "stream",
     "text": [
      "torch.Size([2, 30, 512])\n"
     ]
    }
   ],
   "source": [
    "import torch\n",
    "from torch import nn\n",
    "from mamba_ssm import Mamba\n",
    "\n",
    "\n",
    "class FeedForward(nn.Module):\n",
    "    def __init__(self, n_embed, dropout=0.2) -> None:\n",
    "        super().__init__()\n",
    "        self.ffn = nn.Sequential(\n",
    "            nn.Linear(n_embed, 4 * n_embed),\n",
    "            nn.ReLU(),\n",
    "            nn.Linear(4 * n_embed, n_embed),\n",
    "            nn.Dropout(dropout),\n",
    "        )\n",
    "\n",
    "    def forward(self, x):\n",
    "        return self.ffn(x)\n",
    "\n",
    "\n",
    "class MamabaBlock(nn.Module):\n",
    "    def __init__(\n",
    "        self,\n",
    "        n_embed,\n",
    "        d_state=16,\n",
    "        d_conv=4,\n",
    "        expand=2,\n",
    "    ) -> None:\n",
    "        super().__init__()\n",
    "        self.sa_head = Mamba(\n",
    "            # This module uses roughly 3 * expand * d_model^2 parameters\n",
    "            d_model=n_embed,  # Model dimension d_model\n",
    "            d_state=d_state,  # SSM state expansion factor\n",
    "            d_conv=d_conv,  # Local convolution width\n",
    "            expand=expand,  # Block expansion factor\n",
    "        )\n",
    "        self.ffn = FeedForward(n_embed)\n",
    "        self.ln1 = nn.LayerNorm(n_embed)\n",
    "        self.ln2 = nn.LayerNorm(n_embed)\n",
    "\n",
    "    def forward(self, x):\n",
    "        x = x + self.sa_head(self.ln1(x))\n",
    "        x = x + self.ffn(self.ln2(x))\n",
    "\n",
    "        return x\n",
    "\n",
    "\n",
    "class MambaEncoder(nn.Module):\n",
    "    def __init__(self, n_embed, num_layers=6) -> None:\n",
    "        super().__init__()\n",
    "        self.layers = nn.ModuleList([MamabaBlock(n_embed)\n",
    "                                    for _ in range(num_layers)])\n",
    "\n",
    "    def forward(self, x, pos_enc=None):\n",
    "        if pos_enc is not None:\n",
    "            x = x + pos_enc\n",
    "        for layer in self.layers:\n",
    "            x = layer(x)\n",
    "        return x\n",
    "\n",
    "\n",
    "src = torch.randn(2, 30, 512)\n",
    "encoder = MambaEncoder(512, num_layers=6).cuda()\n",
    "out = encoder(src.cuda())\n",
    "print(out.shape)"
   ]
  },
  {
   "cell_type": "markdown",
   "metadata": {},
   "source": [
    "## DECODER"
   ]
  },
  {
   "cell_type": "code",
   "execution_count": 2,
   "metadata": {},
   "outputs": [
    {
     "data": {
      "text/plain": [
       "torch.Size([2, 100, 512])"
      ]
     },
     "execution_count": 2,
     "metadata": {},
     "output_type": "execute_result"
    }
   ],
   "source": [
    "from linformer import LinformerSelfAttention\n",
    "\n",
    "\n",
    "class DecoderBlock(nn.Module):\n",
    "    def __init__(self, n_embed, heads, max_seq_len):\n",
    "        super().__init__()\n",
    "        self.self_attn = LinformerSelfAttention(\n",
    "            dim=n_embed,\n",
    "            seq_len=max_seq_len,\n",
    "            heads=heads,\n",
    "            k=256,\n",
    "            one_kv_head=True,\n",
    "            share_kv=True,\n",
    "        )\n",
    "\n",
    "        self.cross_attn = LinformerSelfAttention(\n",
    "            dim=n_embed,\n",
    "            seq_len=max_seq_len,\n",
    "            heads=heads,\n",
    "            k=256,\n",
    "            one_kv_head=True,\n",
    "            share_kv=True,\n",
    "        )\n",
    "        self.ffn = FeedForward(n_embed)\n",
    "        self.ln1 = nn.LayerNorm(n_embed)\n",
    "        self.ln2 = nn.LayerNorm(n_embed)\n",
    "\n",
    "    def forward(self, x, context, x_pos_enc=None, context_pos_enc=None):\n",
    "        # Self-attention\n",
    "        if x_pos_enc is not None:\n",
    "            x = x + x_pos_enc\n",
    "        z = x + self.self_attn(self.ln1(x))\n",
    "\n",
    "        # Context attention\n",
    "        if context_pos_enc is not None:\n",
    "            context = context + context_pos_enc\n",
    "        z = z + self.cross_attn(z, context)\n",
    "\n",
    "        # Feedforward\n",
    "        z = z + self.ffn(self.ln2(z))\n",
    "\n",
    "        return z\n",
    "\n",
    "class Decoder(nn.Module):\n",
    "    def __init__(self, n_embed, heads, max_seq_len, num_decoder_layers=6):\n",
    "        super().__init__()\n",
    "        self.layers = nn.ModuleList([DecoderBlock(n_embed, heads,  max_seq_len)\n",
    "                                    for _ in range(num_decoder_layers)])\n",
    "\n",
    "    def forward(self, x, context, x_pos_enc=None, context_pos_enc=None):\n",
    "        for layer in self.layers:\n",
    "            x = layer(x, context, x_pos_enc, context_pos_enc)\n",
    "        return x\n",
    "\n",
    "\n",
    "# Dummy\n",
    "mem = torch.randn(2, 625, 512)\n",
    "obj_query = torch.randn(2, 100, 512)\n",
    "dec = Decoder(512, 8, 625, num_decoder_layers=6)\n",
    "z = dec(obj_query, mem)  # (1, 2048, 512)\n",
    "z.shape"
   ]
  },
  {
   "cell_type": "markdown",
   "metadata": {},
   "source": [
    "## WHOLE"
   ]
  },
  {
   "cell_type": "code",
   "execution_count": 3,
   "metadata": {},
   "outputs": [
    {
     "name": "stdout",
     "output_type": "stream",
     "text": [
      "torch.Size([1, 100, 92]) torch.Size([1, 100, 4])\n"
     ]
    }
   ],
   "source": [
    "import torch\n",
    "from torch import nn\n",
    "from torchvision.models import resnet50\n",
    "import torchvision.transforms as T\n",
    "\n",
    "\n",
    "class DETRdemo(nn.Module):\n",
    "\n",
    "    def __init__(\n",
    "        self,\n",
    "        num_classes,\n",
    "        hidden_dim=256,\n",
    "        nheads=8,\n",
    "        num_encoder_layers=6,\n",
    "        num_decoder_layers=6,\n",
    "        ckpt=None,\n",
    "    ):\n",
    "        super().__init__()\n",
    "\n",
    "        # create ResNet-50 backbone\n",
    "        if ckpt is None:\n",
    "            self.backbone = resnet50(weights='ResNet50_Weights.IMAGENET1K_V2')\n",
    "        else:\n",
    "            self.backbone = resnet50()\n",
    "        del self.backbone.fc\n",
    "\n",
    "        # create conversion layer\n",
    "        self.conv = nn.Conv2d(2048, hidden_dim, 1)\n",
    "\n",
    "        # create a default PyTorch transformer\n",
    "        # self.transformer = nn.Transformer(\n",
    "        #     hidden_dim, nheads, num_encoder_layers, num_decoder_layers\n",
    "        # )\n",
    "        self.enc = MambaEncoder(hidden_dim, num_encoder_layers)\n",
    "        self.dec = Decoder(hidden_dim, nheads, 625, num_decoder_layers)\n",
    "\n",
    "        # prediction heads, one extra class for predicting non-empty slots\n",
    "        # note that in baseline DETR linear_bbox layer is 3-layer MLP\n",
    "        self.linear_class = nn.Linear(hidden_dim, num_classes + 1)\n",
    "        self.linear_bbox = nn.Linear(hidden_dim, 4)\n",
    "\n",
    "        # output positional encodings (object queries)\n",
    "        self.query_pos = nn.Parameter(torch.rand(100, hidden_dim))\n",
    "\n",
    "        # spatial positional encodings\n",
    "        # note that in baseline DETR we use sine positional encodings\n",
    "        self.row_embed = nn.Parameter(torch.rand(50, hidden_dim // 2))\n",
    "        self.col_embed = nn.Parameter(torch.rand(50, hidden_dim // 2))\n",
    "\n",
    "    def forward(self, inputs):\n",
    "        # propagate inputs through ResNet-50 up to avg-pool layer\n",
    "        x = self.backbone.conv1(inputs)\n",
    "        x = self.backbone.bn1(x)\n",
    "        x = self.backbone.relu(x)\n",
    "        x = self.backbone.maxpool(x)\n",
    "\n",
    "        x = self.backbone.layer1(x)\n",
    "        x = self.backbone.layer2(x)\n",
    "        x = self.backbone.layer3(x)\n",
    "        x = self.backbone.layer4(x)\n",
    "\n",
    "        # convert from 2048 to 256 feature planes for the transformer\n",
    "        h = self.conv(x)\n",
    "\n",
    "        # construct positional encodings\n",
    "        H, W = h.shape[-2:]\n",
    "        pos = (\n",
    "            torch.cat(\n",
    "                [\n",
    "                    self.col_embed[:W].unsqueeze(0).repeat(H, 1, 1),\n",
    "                    self.row_embed[:H].unsqueeze(1).repeat(1, W, 1),\n",
    "                ],\n",
    "                dim=-1,\n",
    "            )\n",
    "            .flatten(0, 1)\n",
    "            .unsqueeze(1)\n",
    "        ).permute(1, 0, 2)\n",
    "\n",
    "        h = h.flatten(2).permute(0, 2, 1)\n",
    "        q = self.query_pos.unsqueeze(1).repeat(\n",
    "            1, h.shape[0], 1).permute(1, 0, 2)\n",
    "\n",
    "        # propagate through the transformer\n",
    "        mem = self.enc(h, pos)\n",
    "        h = self.dec(q, mem)\n",
    "\n",
    "        # finally project transformer outputs to class labels and bounding boxes\n",
    "        return {\n",
    "            \"pred_logits\": self.linear_class(h),\n",
    "            \"pred_boxes\": self.linear_bbox(h).sigmoid(),\n",
    "        }\n",
    "\n",
    "\n",
    "model = DETRdemo(num_classes=91).cuda()\n",
    "\n",
    "# dummy\n",
    "model.eval()\n",
    "dummy = torch.rand(1, 3, 800, 800).cuda()\n",
    "out = model(dummy)\n",
    "print(out['pred_logits'].shape, out['pred_boxes'].shape)"
   ]
  },
  {
   "cell_type": "code",
   "execution_count": 4,
   "metadata": {},
   "outputs": [
    {
     "name": "stdout",
     "output_type": "stream",
     "text": [
      "36,635,552 total parameters.\n"
     ]
    }
   ],
   "source": [
    "# count total paremeters\n",
    "total_params = sum(p.numel() for p in model.parameters())\n",
    "print(f'{total_params:,} total parameters.')"
   ]
  },
  {
   "cell_type": "code",
   "execution_count": null,
   "metadata": {},
   "outputs": [],
   "source": []
  },
  {
   "cell_type": "code",
   "execution_count": null,
   "metadata": {},
   "outputs": [],
   "source": []
  },
  {
   "cell_type": "code",
   "execution_count": null,
   "metadata": {},
   "outputs": [],
   "source": []
  },
  {
   "cell_type": "code",
   "execution_count": null,
   "metadata": {},
   "outputs": [],
   "source": []
  }
 ],
 "metadata": {
  "kernelspec": {
   "display_name": "opencv",
   "language": "python",
   "name": "python3"
  },
  "language_info": {
   "codemirror_mode": {
    "name": "ipython",
    "version": 3
   },
   "file_extension": ".py",
   "mimetype": "text/x-python",
   "name": "python",
   "nbconvert_exporter": "python",
   "pygments_lexer": "ipython3",
   "version": "3.11.9"
  }
 },
 "nbformat": 4,
 "nbformat_minor": 2
}
